{
  "nbformat": 4,
  "nbformat_minor": 0,
  "metadata": {
    "colab": {
      "provenance": [],
      "gpuType": "T4"
    },
    "kernelspec": {
      "name": "python3",
      "display_name": "Python 3"
    },
    "language_info": {
      "name": "python"
    },
    "accelerator": "GPU"
  },
  "cells": [
    {
      "cell_type": "markdown",
      "metadata": {
        "id": "835cbdc1"
      },
      "source": [
        "# Terrain Classification Project\n",
        "\n",
        "This notebook implements and compares terrain classification models using the BorealTC proprioceptive dataset, reproducing the 1D CNN from Choi & Thomasson (Stanford) and potentially exploring other models."
      ]
    },
    {
      "cell_type": "markdown",
      "metadata": {
        "id": "046c5a80"
      },
      "source": [
        "## 1. Setup and Data Loading\n",
        "\n",
        "Clone the necessary repositories and load the datasets."
      ]
    },
    {
      "cell_type": "code",
      "metadata": {
        "colab": {
          "base_uri": "https://localhost:8080/"
        },
        "id": "50b9cf15",
        "outputId": "031c4428-12dc-44ef-b90a-57df13df2520"
      },
      "source": [
        "# Clone the required repositories\n",
        "!git clone https://github.com/norlab-ulaval/BorealTC.git"
      ],
      "execution_count": 1,
      "outputs": [
        {
          "output_type": "stream",
          "name": "stdout",
          "text": [
            "Cloning into 'BorealTC'...\n",
            "remote: Enumerating objects: 3189, done.\u001b[K\n",
            "remote: Counting objects: 100% (520/520), done.\u001b[K\n",
            "remote: Compressing objects: 100% (230/230), done.\u001b[K\n",
            "remote: Total 3189 (delta 316), reused 477 (delta 282), pack-reused 2669 (from 1)\u001b[K\n",
            "Receiving objects: 100% (3189/3189), 611.79 MiB | 24.04 MiB/s, done.\n",
            "Resolving deltas: 100% (1687/1687), done.\n",
            "Updating files: 100% (505/505), done.\n"
          ]
        }
      ]
    },
    {
      "cell_type": "markdown",
      "metadata": {
        "id": "a1ded31c"
      },
      "source": [
        "### Load Datasets\n",
        "\n",
        "Load the data by iterating through the BorealTC data directory to load all relevant CSV files."
      ]
    },
    {
      "cell_type": "code",
      "metadata": {
        "colab": {
          "base_uri": "https://localhost:8080/"
        },
        "id": "fe47327d",
        "outputId": "b5d170fe-e4d7-4e04-b5b6-1f8be6a3c0b2"
      },
      "source": [
        "import pandas as pd\n",
        "import numpy as np\n",
        "import os\n",
        "\n",
        "# Define paths to the datasets (assuming they are cloned in the /content directory)\n",
        "# We will only load BorealTC data for this focused analysis\n",
        "boreal_data_dir = '/content/BorealTC/data' # Directory containing BorealTC data files\n",
        "\n",
        "# Load BorealTC data\n",
        "print(f\"Loading BorealTC data from: {boreal_data_dir}\")\n",
        "all_boreal_data = []\n",
        "all_boreal_labels_text_raw = [] # Store raw text labels during loading\n",
        "\n",
        "# Iterate through the main data directory\n",
        "if os.path.exists(boreal_data_dir):\n",
        "    for root, dirs, files in os.walk(boreal_data_dir):\n",
        "        # Check if the current directory is a terrain directory within 'borealtc' or 'vulpi'\n",
        "        if 'borealtc' in root or 'vulpi' in root:\n",
        "            terrain_name = os.path.basename(root)\n",
        "            # Exclude the top-level 'borealtc' and 'vulpi' directories and any other non-terrain directories\n",
        "            if terrain_name.lower() in ['borealtc', 'vulpi', 'processed', 'raw', 'run_1', 'run_2', 'run_3', 'run_4', 'run_5', 'run_6', 'license', 'readme.md', '.ipynb_checkpoints']: # Add other non-terrain/non-data names\n",
        "                 continue\n",
        "\n",
        "            # print(f\"Processing terrain directory: {root} (Terrain: {terrain_name})\") # Commenting out verbose print\n",
        "\n",
        "            for file in files:\n",
        "                if file.endswith('.csv'):\n",
        "                    file_path = os.path.join(root, file)\n",
        "                    try:\n",
        "                        # Load the CSV file\n",
        "                        df = pd.read_csv(file_path)\n",
        "                        # Add a 'terrain' column with the extracted terrain name\n",
        "                        df['terrain'] = terrain_name\n",
        "                        all_boreal_data.append(df)\n",
        "                        # Store the raw terrain label for each row\n",
        "                        all_boreal_labels_text_raw.extend([terrain_name] * len(df))\n",
        "                        # print(f\"  Loaded file: {file}\") # Uncomment for verbose output\n",
        "                    except Exception as e:\n",
        "                        print(f\"  Error loading file {file_path}: {e}\")\n",
        "else:\n",
        "    print(f\"Error: BorealTC data directory not found at {boreal_data_dir}\")\n",
        "\n",
        "\n",
        "# Concatenate all dataframes into a single one\n",
        "if all_boreal_data:\n",
        "    boreal_df_full = pd.concat(all_boreal_data, ignore_index=True)\n",
        "    print(\"\\nFull BorealTC dataset loaded successfully.\")\n",
        "    print(\"Full BorealTC data shape:\", boreal_df_full.shape)\n",
        "    # print(\"Full BorealTC data columns:\", boreal_df_full.columns) # Commenting out extra print\n",
        "    # print(\"Sample of full BorealTC data:\") # Commenting out extra print\n",
        "    # display(boreal_df_full.head()) # Commenting out head display for cleaner output\n",
        "    # print(\"\\nSample of BorealTC labels (raw):\") # Commenting out extra print\n",
        "    # print(all_boreal_labels_text_raw[:10]) # Commenting out label display for cleaner output\n",
        "else:\n",
        "    print(\"\\nNo BorealTC data files found or loaded.\")\n",
        "    boreal_df_full = pd.DataFrame()\n",
        "    all_boreal_labels_text_raw = []\n",
        "\n",
        "# Initialize sailr_df and sailr_labels_df as empty DataFrames since we are not using SAIL-R for now\n",
        "sailr_df = pd.DataFrame()\n",
        "sailr_labels_df = pd.DataFrame()"
      ],
      "execution_count": 2,
      "outputs": [
        {
          "output_type": "stream",
          "name": "stdout",
          "text": [
            "Loading BorealTC data from: /content/BorealTC/data\n",
            "\n",
            "Full BorealTC dataset loaded successfully.\n",
            "Full BorealTC data shape: (936054, 12)\n"
          ]
        }
      ]
    },
    {
      "cell_type": "markdown",
      "metadata": {
        "id": "9a531fc5"
      },
      "source": [
        "## 2. Data Preprocessing\n",
        "\n",
        "Segment the data into fixed-length time windows and normalize the segments. Handle missing values and the distinct feature sets in the BorealTC dataset."
      ]
    },
    {
      "cell_type": "code",
      "metadata": {
        "colab": {
          "base_uri": "https://localhost:8080/"
        },
        "id": "cbab045d",
        "outputId": "64387925-7171-4771-bd21-96ed481d700d"
      },
      "source": [
        "# Function to segment data and labels into windows\n",
        "def segment_data_and_labels(df, window_size, step_size, data_columns, label_column):\n",
        "    segments = []\n",
        "    labels = []\n",
        "    # Ensure data is treated as numeric, coercing errors for data columns\n",
        "    df[data_columns] = df[data_columns].apply(pd.to_numeric, errors='coerce')\n",
        "    # Drop rows with NaN values that resulted from coercion in data columns\n",
        "    df.dropna(subset=data_columns, inplace=True)\n",
        "\n",
        "    # Ensure label column exists and is not empty after dropping NaNs in data columns\n",
        "    if label_column not in df.columns or df[label_column].isnull().all():\n",
        "        print(f\"Warning: Label column '{label_column}' not found or is empty after dropping NaNs. Skipping segmentation for this DataFrame.\")\n",
        "        return np.array([]), np.array([]) # Return empty arrays if labels are missing\n",
        "\n",
        "    # Reset index after dropping rows to ensure iloc works correctly\n",
        "    df = df.reset_index(drop=True)\n",
        "\n",
        "    if len(df) < window_size:\n",
        "        # print(f\"Warning: DataFrame length after cleaning ({len(df)}) is less than window size ({window_size}). Skipping segmentation.\") # Commenting out verbose warning\n",
        "        return np.array([]), np.array([])\n",
        "\n",
        "    for i in range(0, len(df) - window_size + 1, step_size):\n",
        "        segment = df.iloc[i:i + window_size][data_columns].values\n",
        "        # Take the label from the last row of the segment\n",
        "        label = df.iloc[i + window_size - 1][label_column]\n",
        "        segments.append(segment)\n",
        "        labels.append(label)\n",
        "\n",
        "    return np.array(segments), np.array(labels)\n",
        "\n",
        "# Function to normalize data segments\n",
        "def normalize_segments(segments):\n",
        "    normalized_segments = []\n",
        "    for segment in segments:\n",
        "        if segment.size == 0: # Handle empty segments\n",
        "            normalized_segments.append(segment)\n",
        "            continue\n",
        "        # Normalize each channel (column) independently\n",
        "        mean = np.mean(segment, axis=0)\n",
        "        std = np.std(segment, axis=0)\n",
        "        # Avoid division by zero for constant channels\n",
        "        normalized_segment = (segment - mean) / (std + 1e-8)\n",
        "        normalized_segments.append(normalized_segment)\n",
        "    return np.array(normalized_segments)\n",
        "\n",
        "\n",
        "# Define window parameters\n",
        "boreal_window_size = 100 # Example window size for BorealTC\n",
        "boreal_step_size = 50 # Example step size (overlapping windows)\n",
        "\n",
        "# Segment full BorealTC IMU data and labels\n",
        "if 'boreal_df_full' in locals() and not boreal_df_full.empty and 'terrain' in boreal_df_full.columns:\n",
        "    print(\"\\nSegmenting full BorealTC IMU data and labels...\")\n",
        "    # Use only IMU columns for segmentation\n",
        "    boreal_imu_data_columns = ['wx', 'wy', 'wz', 'ax', 'ay', 'az']\n",
        "    boreal_label_column = 'terrain' # The terrain label is in the 'terrain' column\n",
        "    boreal_imu_segments_full, boreal_imu_segment_labels_text_full = segment_data_and_labels(boreal_df_full.copy(), boreal_window_size, boreal_step_size, boreal_imu_data_columns, boreal_label_column)\n",
        "    print(\"Full BorealTC IMU segments shape:\", boreal_imu_segments_full.shape)\n",
        "    print(\"Full BorealTC IMU segment labels count:\", len(boreal_imu_segment_labels_text_full))\n",
        "else:\n",
        "     print(\"\\nFull BorealTC data not loaded, is empty, or 'terrain' column is missing, skipping segmentation.\")\n",
        "     boreal_imu_segments_full = np.array([])\n",
        "     boreal_imu_segment_labels_text_full = np.array([])\n",
        "\n",
        "# Normalize full BorealTC IMU segments\n",
        "boreal_imu_segments_full_normalized = np.array([]) # Initialize in global scope\n",
        "\n",
        "if 'boreal_imu_segments_full' in locals() and not boreal_imu_segments_full.size == 0:\n",
        "    print(\"\\nNormalizing full BorealTC IMU segments...\")\n",
        "    boreal_imu_segments_full_normalized = normalize_segments(boreal_imu_segments_full)\n",
        "    print(\"Full BorealTC IMU normalized segments shape:\", boreal_imu_segments_full_normalized.shape)\n",
        "    # Add print statement to confirm shape after normalization\n",
        "    print(f\"Confirmed shape of boreal_imu_segments_full_normalized after creation: {boreal_imu_segments_full_normalized.shape}\")\n",
        "else:\n",
        "    print(\"\\nFull BorealTC IMU segments not available or empty for normalization.\")\n",
        "\n",
        "# Initialize SAIL-R segments and labels as empty since we are not using SAIL-R\n",
        "sailr_segments_full = np.array([])\n",
        "sailr_segment_labels_text_full = np.array([])\n",
        "\n",
        "# Initialize BorealTC Vel/Cur segments and labels as empty since we are not using them\n",
        "boreal_vel_cur_segments_full = np.array([])\n",
        "boreal_vel_cur_segment_labels_text_full = np.array([])"
      ],
      "execution_count": 3,
      "outputs": [
        {
          "output_type": "stream",
          "name": "stdout",
          "text": [
            "\n",
            "Segmenting full BorealTC IMU data and labels...\n",
            "Full BorealTC IMU segments shape: (17390, 100, 6)\n",
            "Full BorealTC IMU segment labels count: 17390\n",
            "\n",
            "Normalizing full BorealTC IMU segments...\n",
            "Full BorealTC IMU normalized segments shape: (17390, 100, 6)\n",
            "Confirmed shape of boreal_imu_segments_full_normalized after creation: (17390, 100, 6)\n"
          ]
        }
      ]
    },
    {
      "cell_type": "markdown",
      "metadata": {
        "id": "ca4c1033"
      },
      "source": [
        "## 3. Label Mapping and Data Combining/Splitting\n",
        "\n",
        "Define the mapping from terrain names to numerical class labels, combine the processed segments and labels from both datasets, and split the combined data into training, validation, and test sets."
      ]
    },
    {
      "cell_type": "code",
      "metadata": {
        "colab": {
          "base_uri": "https://localhost:8080/"
        },
        "id": "c0630c42",
        "outputId": "7bc732d6-a503-4d54-ead0-e71896e00d2b"
      },
      "source": [
        "from sklearn.model_selection import train_test_split\n",
        "from sklearn.preprocessing import LabelEncoder\n",
        "\n",
        "# Define the mapping from 8 terrains to 4 classes\n",
        "terrain_to_class = {\n",
        "    'asphalt': 'hard',\n",
        "    'concrete': 'hard',\n",
        "    'gravel': 'unstructured',\n",
        "    'sand': 'unstructured',\n",
        "    'grass': 'soft',\n",
        "    'mulch': 'soft',\n",
        "    'carpet': 'indoor',\n",
        "    'tile': 'indoor',\n",
        "    'ASPHALT': 'hard',\n",
        "    'CONCRETE': 'hard',\n",
        "    'DIRT_ROAD': 'unstructured',\n",
        "    'PLOUGHED': 'unstructured',\n",
        "    'UNPLOUGHED': 'unstructured',\n",
        "    'SANDY_LOAM': 'unstructured',\n",
        "    'SNOW': 'soft',\n",
        "    'ICE': 'hard',\n",
        "    'FLOORING': 'indoor',\n",
        "    'MIXED': 'unstructured'\n",
        "}\n",
        "\n",
        "# Create a mapping from class names to numerical labels\n",
        "class_to_label = {\n",
        "    'hard': 0,\n",
        "    'unstructured': 1,\n",
        "    'soft': 2,\n",
        "    'indoor': 3\n",
        "}\n",
        "\n",
        "# Function to get class label for a given terrain name\n",
        "def get_class_label(terrain_name):\n",
        "    # Ensure terrain_name is treated as string and convert to uppercase to match the mapping keys from BorealTC\n",
        "    terrain_name_upper = str(terrain_name).upper()\n",
        "    if terrain_name_upper in terrain_to_class:\n",
        "        class_name = terrain_to_class[terrain_name_upper]\n",
        "        return class_to_label[class_name]\n",
        "    # Handle terrain names from SAIL-R which might be lowercase if not covered above\n",
        "    if terrain_name in terrain_to_class:\n",
        "         class_name = terrain_to_class[terrain_name]\n",
        "         return class_to_label[class_name]\n",
        "\n",
        "    # print(f\"Warning: Unknown terrain name '{terrain_name}', returning -1.\") # Commenting out verbose warning\n",
        "    return -1 # Indicate unknown terrain/class\n",
        "\n",
        "print(\"Terrain to Class Mapping:\", terrain_to_class)\n",
        "print(\"Class to Label Mapping:\", class_to_label)\n",
        "\n",
        "\n",
        "# Use only BorealTC IMU segments and labels\n",
        "# Assuming boreal_imu_segments_full_normalized and boreal_imu_segment_labels_text_full are available from previous segmentation and normalization\n",
        "all_segments_combined = np.array([])\n",
        "all_labels_text_combined = []\n",
        "\n",
        "if 'boreal_imu_segments_full_normalized' in locals() and not boreal_imu_segments_full_normalized.size == 0:\n",
        "    print(\"\\nUsing BorealTC IMU segments and labels for splitting...\")\n",
        "    all_segments_combined = boreal_imu_segments_full_normalized\n",
        "    all_labels_text_combined = boreal_imu_segment_labels_text_full # Text labels are fine here\n",
        "    print(f\"  Using {all_segments_combined.shape[0]} BorealTC IMU segments (normalized).\")\n",
        "else:\n",
        "     print(\"  Normalized BorealTC IMU segments not available or empty.\")\n",
        "     all_segments_combined = np.array([])\n",
        "     all_labels_text_combined = []\n",
        "\n",
        "\n",
        "print(f\"\\nTotal number of segments for splitting: {all_segments_combined.shape[0] if all_segments_combined.size > 0 else 0}\")\n",
        "print(f\"Total number of text labels for splitting: {len(all_labels_text_combined)}\")\n",
        "\n",
        "\n",
        "# Convert combined text labels to numerical labels and filter out unknown terrains\n",
        "print(\"\\nConverting text labels to numerical labels and filtering unknown terrains...\")\n",
        "if all_labels_text_combined is not None and len(all_labels_text_combined) > 0: # Check if there are labels to process\n",
        "    all_labels_numerical_combined = [get_class_label(terrain) for terrain in all_labels_text_combined]\n",
        "    all_labels_numerical_combined = np.array(all_labels_numerical_combined)\n",
        "\n",
        "    # Remove segments and labels where the label is -1 (unknown terrain)\n",
        "    if all_segments_combined.size > 0 and all_labels_numerical_combined.size > 0:\n",
        "        valid_indices = all_labels_numerical_combined != -1\n",
        "        # Ensure segments and labels have the same length before filtering\n",
        "        if all_segments_combined.shape[0] == all_labels_numerical_combined.shape[0]:\n",
        "            all_segments_combined = all_segments_combined[valid_indices]\n",
        "            all_labels_numerical_combined = all_labels_numerical_combined[valid_indices]\n",
        "            print(f\"\\nShape after removing unknown terrain labels ({np.sum(~valid_indices)} removed):\")\n",
        "            print(\"Combined dataset shape (segments):\", all_segments_combined.shape)\n",
        "            print(\"Combined dataset shape (labels):\", all_labels_numerical_combined.shape)\n",
        "        else:\n",
        "             print(\"Warning: Number of segments and labels do not match before filtering unknown terrains.\")\n",
        "             # Proceed without filtering if shapes don't match to avoid error, but this indicates an issue\n",
        "             print(\"Combined dataset shape (segments) before filtering:\", all_segments_combined.shape)\n",
        "             print(\"Combined dataset shape (labels) before filtering:\", all_labels_numerical_combined.shape)\n",
        "\n",
        "    else:\n",
        "        print(\"\\nNo segments or labels available to filter.\")\n",
        "        all_segments_combined = np.array([])\n",
        "        all_labels_numerical_combined = np.array([])\n",
        "else:\n",
        "    print(\"\\nNo text labels available to convert and filter.\")\n",
        "    all_segments_combined = np.array([])\n",
        "    all_labels_numerical_combined = np.array([])\n",
        "\n",
        "\n",
        "# Split data into train, validation, and test sets\n",
        "if all_segments_combined.size > 0 and all_labels_numerical_combined.size > 0:\n",
        "    print(\"\\nSplitting data into train, validation, and test sets...\")\n",
        "    # Use stratify to maintain the class distribution in splits\n",
        "    unique_labels, counts = np.unique(all_labels_numerical_combined, return_counts=True)\n",
        "    if len(unique_labels) < 2 or np.min(counts) < 2:\n",
        "         print(f\"Warning: Insufficient classes or samples per class for stratification ({len(unique_labels)} classes, min samples {np.min(counts) if len(counts) > 0 else 0}). Splitting without stratification.\")\n",
        "         X_train, X_temp, y_train, y_temp = train_test_split(\n",
        "             all_segments_combined, all_labels_numerical_combined, test_size=0.3, random_state=42\n",
        "         )\n",
        "    else:\n",
        "        try:\n",
        "            X_train, X_temp, y_train, y_temp = train_test_split(\n",
        "                all_segments_combined, all_labels_numerical_combined, test_size=0.3, random_state=42, stratify=all_labels_numerical_combined\n",
        "            )\n",
        "        except ValueError as e:\n",
        "            print(f\"Error during stratified split, falling back to non-stratified split: {e}\")\n",
        "            X_train, X_temp, y_train, y_temp = train_test_split(\n",
        "                all_segments_combined, all_labels_numerical_combined, test_size=0.3, random_state=42\n",
        "            )\n",
        "\n",
        "\n",
        "    unique_labels_temp, counts_temp = np.unique(y_temp, return_counts=True)\n",
        "    if len(unique_labels_temp) < 2 or np.min(counts_temp) < 2:\n",
        "         print(f\"Warning: Temporary set has insufficient classes or samples per class for stratification ({len(unique_labels_temp)} classes, min samples {np.min(counts_temp) if len(counts_temp) > 0 else 0}). Splitting validation/test without stratification.\")\n",
        "         X_val, X_test, y_val, y_test = train_test_split(\n",
        "             X_temp, y_temp, test_size=0.5, random_state=42\n",
        "         )\n",
        "    else:\n",
        "        try:\n",
        "            X_val, X_test, y_val, y_test = train_test_split(\n",
        "                X_temp, y_temp, test_size=0.5, random_state=42, stratify=y_temp\n",
        "            )\n",
        "        except ValueError as e:\n",
        "             print(f\"Error during stratified split for validation/test, falling back to non-stratified split: {e}\")\n",
        "             X_val, X_test, y_val, y_test = train_test_split(\n",
        "                X_temp, y_temp, test_size=0.5, random_state=42\n",
        "            )\n",
        "\n",
        "\n",
        "    print(\"Training set shape:\", X_train.shape, y_train.shape)\n",
        "    print(\"Validation set shape:\", X_val.shape, y_val.shape)\n",
        "    print(\"Test set shape:\", X_test.shape, y_test.shape)\n",
        "\n",
        "    # Store split data\n",
        "    split_data = {\n",
        "        'X_train': X_train,\n",
        "        'y_train': y_train,\n",
        "        'X_val': X_val,\n",
        "        'y_val': y_val,\n",
        "        'X_test': X_test,\n",
        "        'y_test': y_test\n",
        "    }\n",
        "\n",
        "    print(\"\\nSplit data stored in 'split_data' dictionary.\")\n",
        "\n",
        "else:\n",
        "    print(\"\\nNo data available to split.\")"
      ],
      "execution_count": 4,
      "outputs": [
        {
          "output_type": "stream",
          "name": "stdout",
          "text": [
            "Terrain to Class Mapping: {'asphalt': 'hard', 'concrete': 'hard', 'gravel': 'unstructured', 'sand': 'unstructured', 'grass': 'soft', 'mulch': 'soft', 'carpet': 'indoor', 'tile': 'indoor', 'ASPHALT': 'hard', 'CONCRETE': 'hard', 'DIRT_ROAD': 'unstructured', 'PLOUGHED': 'unstructured', 'UNPLOUGHED': 'unstructured', 'SANDY_LOAM': 'unstructured', 'SNOW': 'soft', 'ICE': 'hard', 'FLOORING': 'indoor', 'MIXED': 'unstructured'}\n",
            "Class to Label Mapping: {'hard': 0, 'unstructured': 1, 'soft': 2, 'indoor': 3}\n",
            "\n",
            "Using BorealTC IMU segments and labels for splitting...\n",
            "  Using 17390 BorealTC IMU segments (normalized).\n",
            "\n",
            "Total number of segments for splitting: 17390\n",
            "Total number of text labels for splitting: 17390\n",
            "\n",
            "Converting text labels to numerical labels and filtering unknown terrains...\n",
            "\n",
            "Shape after removing unknown terrain labels (0 removed):\n",
            "Combined dataset shape (segments): (17390, 100, 6)\n",
            "Combined dataset shape (labels): (17390,)\n",
            "\n",
            "Splitting data into train, validation, and test sets...\n",
            "Training set shape: (12173, 100, 6) (12173,)\n",
            "Validation set shape: (2608, 100, 6) (2608,)\n",
            "Test set shape: (2609, 100, 6) (2609,)\n",
            "\n",
            "Split data stored in 'split_data' dictionary.\n"
          ]
        }
      ]
    },
    {
      "cell_type": "markdown",
      "metadata": {
        "id": "5a0f6bc4"
      },
      "source": [
        "## 4. Model Implementation (1D CNN)\n",
        "\n",
        "Implement the 1D CNN model as described in the Choi & Thomasson paper."
      ]
    },
    {
      "cell_type": "code",
      "metadata": {
        "id": "ad053163",
        "colab": {
          "base_uri": "https://localhost:8080/",
          "height": 785
        },
        "outputId": "9e038a4e-a6ae-4d3b-f816-15ec707eb742"
      },
      "source": [
        "import tensorflow as tf\n",
        "from tensorflow import keras\n",
        "from tensorflow.keras import layers\n",
        "\n",
        "def build_1d_cnn_model(input_shape, num_classes):\n",
        "    \"\"\"Builds the 1D CNN model based on Choi & Thomasson (Stanford) paper with 4 conv layers.\"\"\"\n",
        "    model = keras.Sequential([\n",
        "        # Using Input layer to specify input shape as recommended\n",
        "        keras.Input(shape=input_shape),\n",
        "\n",
        "        # Convolutional Layer 1\n",
        "        layers.Conv1D(filters=64, kernel_size=5, strides=1, activation='relu', padding='same'),\n",
        "        layers.BatchNormalization(),\n",
        "        layers.MaxPooling1D(pool_size=2),\n",
        "\n",
        "        # Convolutional Layer 2\n",
        "        layers.Conv1D(filters=128, kernel_size=5, strides=1, activation='relu', padding='same'),\n",
        "        layers.BatchNormalization(),\n",
        "        layers.MaxPooling1D(pool_size=2),\n",
        "        layers.Dropout(0.5),\n",
        "\n",
        "        # Convolutional Layer 3\n",
        "        layers.Conv1D(filters=128, kernel_size=5, strides=1, activation='relu', padding='same'),\n",
        "        layers.BatchNormalization(),\n",
        "\n",
        "        # Convolutional Layer 4\n",
        "        layers.Conv1D(filters=256, kernel_size=5, strides=1, activation='relu', padding='same'),\n",
        "        layers.BatchNormalization(),\n",
        "\n",
        "        # Flatten the output of the convolutional layers\n",
        "        layers.Flatten(),\n",
        "\n",
        "        # Dense layer 1\n",
        "        layers.Dense(256, activation='relu'),\n",
        "        layers.BatchNormalization(),\n",
        "        layers.Dropout(0.5),\n",
        "\n",
        "        # Output layer\n",
        "        layers.Dense(num_classes, activation='softmax')\n",
        "    ])\n",
        "    return model\n",
        "\n",
        "# Build 1D CNN model for BorealTC IMU data with the updated architecture\n",
        "cnn_model_boreal_imu = None # Initialize model variable\n",
        "# num_classes is already defined in the Label Mapping and Data Splitting section\n",
        "\n",
        "\n",
        "# Assuming split_data contains the split data for the single modality (BorealTC IMU)\n",
        "if 'split_data' in locals() and split_data['X_train'].size > 0:\n",
        "    boreal_imu_input_shape = split_data['X_train'].shape[1:]\n",
        "    # Ensure num_classes is available\n",
        "    if 'class_to_label' in locals():\n",
        "        num_classes = len(class_to_label)\n",
        "        print(f\"\\nBuilding updated 1D CNN model for BorealTC IMU data with input shape: {boreal_imu_input_shape}\")\n",
        "        cnn_model_boreal_imu = build_1d_cnn_model(input_shape=boreal_imu_input_shape, num_classes=num_classes)\n",
        "        cnn_model_boreal_imu.summary()\n",
        "    else:\n",
        "         print(\"\\nclass_to_label not available, cannot build the model.\")\n",
        "\n",
        "else:\n",
        "    print(\"\\nSplit data not available or BorealTC IMU training data not present to build the updated model.\")"
      ],
      "execution_count": 5,
      "outputs": [
        {
          "output_type": "stream",
          "name": "stdout",
          "text": [
            "\n",
            "Building updated 1D CNN model for BorealTC IMU data with input shape: (100, 6)\n"
          ]
        },
        {
          "output_type": "display_data",
          "data": {
            "text/plain": [
              "\u001b[1mModel: \"sequential\"\u001b[0m\n"
            ],
            "text/html": [
              "<pre style=\"white-space:pre;overflow-x:auto;line-height:normal;font-family:Menlo,'DejaVu Sans Mono',consolas,'Courier New',monospace\"><span style=\"font-weight: bold\">Model: \"sequential\"</span>\n",
              "</pre>\n"
            ]
          },
          "metadata": {}
        },
        {
          "output_type": "display_data",
          "data": {
            "text/plain": [
              "┏━━━━━━━━━━━━━━━━━━━━━━━━━━━━━━━━━┳━━━━━━━━━━━━━━━━━━━━━━━━┳━━━━━━━━━━━━━━━┓\n",
              "┃\u001b[1m \u001b[0m\u001b[1mLayer (type)                   \u001b[0m\u001b[1m \u001b[0m┃\u001b[1m \u001b[0m\u001b[1mOutput Shape          \u001b[0m\u001b[1m \u001b[0m┃\u001b[1m \u001b[0m\u001b[1m      Param #\u001b[0m\u001b[1m \u001b[0m┃\n",
              "┡━━━━━━━━━━━━━━━━━━━━━━━━━━━━━━━━━╇━━━━━━━━━━━━━━━━━━━━━━━━╇━━━━━━━━━━━━━━━┩\n",
              "│ conv1d (\u001b[38;5;33mConv1D\u001b[0m)                 │ (\u001b[38;5;45mNone\u001b[0m, \u001b[38;5;34m100\u001b[0m, \u001b[38;5;34m64\u001b[0m)        │         \u001b[38;5;34m1,984\u001b[0m │\n",
              "├─────────────────────────────────┼────────────────────────┼───────────────┤\n",
              "│ batch_normalization             │ (\u001b[38;5;45mNone\u001b[0m, \u001b[38;5;34m100\u001b[0m, \u001b[38;5;34m64\u001b[0m)        │           \u001b[38;5;34m256\u001b[0m │\n",
              "│ (\u001b[38;5;33mBatchNormalization\u001b[0m)            │                        │               │\n",
              "├─────────────────────────────────┼────────────────────────┼───────────────┤\n",
              "│ max_pooling1d (\u001b[38;5;33mMaxPooling1D\u001b[0m)    │ (\u001b[38;5;45mNone\u001b[0m, \u001b[38;5;34m50\u001b[0m, \u001b[38;5;34m64\u001b[0m)         │             \u001b[38;5;34m0\u001b[0m │\n",
              "├─────────────────────────────────┼────────────────────────┼───────────────┤\n",
              "│ conv1d_1 (\u001b[38;5;33mConv1D\u001b[0m)               │ (\u001b[38;5;45mNone\u001b[0m, \u001b[38;5;34m50\u001b[0m, \u001b[38;5;34m128\u001b[0m)        │        \u001b[38;5;34m41,088\u001b[0m │\n",
              "├─────────────────────────────────┼────────────────────────┼───────────────┤\n",
              "│ batch_normalization_1           │ (\u001b[38;5;45mNone\u001b[0m, \u001b[38;5;34m50\u001b[0m, \u001b[38;5;34m128\u001b[0m)        │           \u001b[38;5;34m512\u001b[0m │\n",
              "│ (\u001b[38;5;33mBatchNormalization\u001b[0m)            │                        │               │\n",
              "├─────────────────────────────────┼────────────────────────┼───────────────┤\n",
              "│ max_pooling1d_1 (\u001b[38;5;33mMaxPooling1D\u001b[0m)  │ (\u001b[38;5;45mNone\u001b[0m, \u001b[38;5;34m25\u001b[0m, \u001b[38;5;34m128\u001b[0m)        │             \u001b[38;5;34m0\u001b[0m │\n",
              "├─────────────────────────────────┼────────────────────────┼───────────────┤\n",
              "│ dropout (\u001b[38;5;33mDropout\u001b[0m)               │ (\u001b[38;5;45mNone\u001b[0m, \u001b[38;5;34m25\u001b[0m, \u001b[38;5;34m128\u001b[0m)        │             \u001b[38;5;34m0\u001b[0m │\n",
              "├─────────────────────────────────┼────────────────────────┼───────────────┤\n",
              "│ conv1d_2 (\u001b[38;5;33mConv1D\u001b[0m)               │ (\u001b[38;5;45mNone\u001b[0m, \u001b[38;5;34m25\u001b[0m, \u001b[38;5;34m128\u001b[0m)        │        \u001b[38;5;34m82,048\u001b[0m │\n",
              "├─────────────────────────────────┼────────────────────────┼───────────────┤\n",
              "│ batch_normalization_2           │ (\u001b[38;5;45mNone\u001b[0m, \u001b[38;5;34m25\u001b[0m, \u001b[38;5;34m128\u001b[0m)        │           \u001b[38;5;34m512\u001b[0m │\n",
              "│ (\u001b[38;5;33mBatchNormalization\u001b[0m)            │                        │               │\n",
              "├─────────────────────────────────┼────────────────────────┼───────────────┤\n",
              "│ conv1d_3 (\u001b[38;5;33mConv1D\u001b[0m)               │ (\u001b[38;5;45mNone\u001b[0m, \u001b[38;5;34m25\u001b[0m, \u001b[38;5;34m256\u001b[0m)        │       \u001b[38;5;34m164,096\u001b[0m │\n",
              "├─────────────────────────────────┼────────────────────────┼───────────────┤\n",
              "│ batch_normalization_3           │ (\u001b[38;5;45mNone\u001b[0m, \u001b[38;5;34m25\u001b[0m, \u001b[38;5;34m256\u001b[0m)        │         \u001b[38;5;34m1,024\u001b[0m │\n",
              "│ (\u001b[38;5;33mBatchNormalization\u001b[0m)            │                        │               │\n",
              "├─────────────────────────────────┼────────────────────────┼───────────────┤\n",
              "│ flatten (\u001b[38;5;33mFlatten\u001b[0m)               │ (\u001b[38;5;45mNone\u001b[0m, \u001b[38;5;34m6400\u001b[0m)           │             \u001b[38;5;34m0\u001b[0m │\n",
              "├─────────────────────────────────┼────────────────────────┼───────────────┤\n",
              "│ dense (\u001b[38;5;33mDense\u001b[0m)                   │ (\u001b[38;5;45mNone\u001b[0m, \u001b[38;5;34m256\u001b[0m)            │     \u001b[38;5;34m1,638,656\u001b[0m │\n",
              "├─────────────────────────────────┼────────────────────────┼───────────────┤\n",
              "│ batch_normalization_4           │ (\u001b[38;5;45mNone\u001b[0m, \u001b[38;5;34m256\u001b[0m)            │         \u001b[38;5;34m1,024\u001b[0m │\n",
              "│ (\u001b[38;5;33mBatchNormalization\u001b[0m)            │                        │               │\n",
              "├─────────────────────────────────┼────────────────────────┼───────────────┤\n",
              "│ dropout_1 (\u001b[38;5;33mDropout\u001b[0m)             │ (\u001b[38;5;45mNone\u001b[0m, \u001b[38;5;34m256\u001b[0m)            │             \u001b[38;5;34m0\u001b[0m │\n",
              "├─────────────────────────────────┼────────────────────────┼───────────────┤\n",
              "│ dense_1 (\u001b[38;5;33mDense\u001b[0m)                 │ (\u001b[38;5;45mNone\u001b[0m, \u001b[38;5;34m4\u001b[0m)              │         \u001b[38;5;34m1,028\u001b[0m │\n",
              "└─────────────────────────────────┴────────────────────────┴───────────────┘\n"
            ],
            "text/html": [
              "<pre style=\"white-space:pre;overflow-x:auto;line-height:normal;font-family:Menlo,'DejaVu Sans Mono',consolas,'Courier New',monospace\">┏━━━━━━━━━━━━━━━━━━━━━━━━━━━━━━━━━┳━━━━━━━━━━━━━━━━━━━━━━━━┳━━━━━━━━━━━━━━━┓\n",
              "┃<span style=\"font-weight: bold\"> Layer (type)                    </span>┃<span style=\"font-weight: bold\"> Output Shape           </span>┃<span style=\"font-weight: bold\">       Param # </span>┃\n",
              "┡━━━━━━━━━━━━━━━━━━━━━━━━━━━━━━━━━╇━━━━━━━━━━━━━━━━━━━━━━━━╇━━━━━━━━━━━━━━━┩\n",
              "│ conv1d (<span style=\"color: #0087ff; text-decoration-color: #0087ff\">Conv1D</span>)                 │ (<span style=\"color: #00d7ff; text-decoration-color: #00d7ff\">None</span>, <span style=\"color: #00af00; text-decoration-color: #00af00\">100</span>, <span style=\"color: #00af00; text-decoration-color: #00af00\">64</span>)        │         <span style=\"color: #00af00; text-decoration-color: #00af00\">1,984</span> │\n",
              "├─────────────────────────────────┼────────────────────────┼───────────────┤\n",
              "│ batch_normalization             │ (<span style=\"color: #00d7ff; text-decoration-color: #00d7ff\">None</span>, <span style=\"color: #00af00; text-decoration-color: #00af00\">100</span>, <span style=\"color: #00af00; text-decoration-color: #00af00\">64</span>)        │           <span style=\"color: #00af00; text-decoration-color: #00af00\">256</span> │\n",
              "│ (<span style=\"color: #0087ff; text-decoration-color: #0087ff\">BatchNormalization</span>)            │                        │               │\n",
              "├─────────────────────────────────┼────────────────────────┼───────────────┤\n",
              "│ max_pooling1d (<span style=\"color: #0087ff; text-decoration-color: #0087ff\">MaxPooling1D</span>)    │ (<span style=\"color: #00d7ff; text-decoration-color: #00d7ff\">None</span>, <span style=\"color: #00af00; text-decoration-color: #00af00\">50</span>, <span style=\"color: #00af00; text-decoration-color: #00af00\">64</span>)         │             <span style=\"color: #00af00; text-decoration-color: #00af00\">0</span> │\n",
              "├─────────────────────────────────┼────────────────────────┼───────────────┤\n",
              "│ conv1d_1 (<span style=\"color: #0087ff; text-decoration-color: #0087ff\">Conv1D</span>)               │ (<span style=\"color: #00d7ff; text-decoration-color: #00d7ff\">None</span>, <span style=\"color: #00af00; text-decoration-color: #00af00\">50</span>, <span style=\"color: #00af00; text-decoration-color: #00af00\">128</span>)        │        <span style=\"color: #00af00; text-decoration-color: #00af00\">41,088</span> │\n",
              "├─────────────────────────────────┼────────────────────────┼───────────────┤\n",
              "│ batch_normalization_1           │ (<span style=\"color: #00d7ff; text-decoration-color: #00d7ff\">None</span>, <span style=\"color: #00af00; text-decoration-color: #00af00\">50</span>, <span style=\"color: #00af00; text-decoration-color: #00af00\">128</span>)        │           <span style=\"color: #00af00; text-decoration-color: #00af00\">512</span> │\n",
              "│ (<span style=\"color: #0087ff; text-decoration-color: #0087ff\">BatchNormalization</span>)            │                        │               │\n",
              "├─────────────────────────────────┼────────────────────────┼───────────────┤\n",
              "│ max_pooling1d_1 (<span style=\"color: #0087ff; text-decoration-color: #0087ff\">MaxPooling1D</span>)  │ (<span style=\"color: #00d7ff; text-decoration-color: #00d7ff\">None</span>, <span style=\"color: #00af00; text-decoration-color: #00af00\">25</span>, <span style=\"color: #00af00; text-decoration-color: #00af00\">128</span>)        │             <span style=\"color: #00af00; text-decoration-color: #00af00\">0</span> │\n",
              "├─────────────────────────────────┼────────────────────────┼───────────────┤\n",
              "│ dropout (<span style=\"color: #0087ff; text-decoration-color: #0087ff\">Dropout</span>)               │ (<span style=\"color: #00d7ff; text-decoration-color: #00d7ff\">None</span>, <span style=\"color: #00af00; text-decoration-color: #00af00\">25</span>, <span style=\"color: #00af00; text-decoration-color: #00af00\">128</span>)        │             <span style=\"color: #00af00; text-decoration-color: #00af00\">0</span> │\n",
              "├─────────────────────────────────┼────────────────────────┼───────────────┤\n",
              "│ conv1d_2 (<span style=\"color: #0087ff; text-decoration-color: #0087ff\">Conv1D</span>)               │ (<span style=\"color: #00d7ff; text-decoration-color: #00d7ff\">None</span>, <span style=\"color: #00af00; text-decoration-color: #00af00\">25</span>, <span style=\"color: #00af00; text-decoration-color: #00af00\">128</span>)        │        <span style=\"color: #00af00; text-decoration-color: #00af00\">82,048</span> │\n",
              "├─────────────────────────────────┼────────────────────────┼───────────────┤\n",
              "│ batch_normalization_2           │ (<span style=\"color: #00d7ff; text-decoration-color: #00d7ff\">None</span>, <span style=\"color: #00af00; text-decoration-color: #00af00\">25</span>, <span style=\"color: #00af00; text-decoration-color: #00af00\">128</span>)        │           <span style=\"color: #00af00; text-decoration-color: #00af00\">512</span> │\n",
              "│ (<span style=\"color: #0087ff; text-decoration-color: #0087ff\">BatchNormalization</span>)            │                        │               │\n",
              "├─────────────────────────────────┼────────────────────────┼───────────────┤\n",
              "│ conv1d_3 (<span style=\"color: #0087ff; text-decoration-color: #0087ff\">Conv1D</span>)               │ (<span style=\"color: #00d7ff; text-decoration-color: #00d7ff\">None</span>, <span style=\"color: #00af00; text-decoration-color: #00af00\">25</span>, <span style=\"color: #00af00; text-decoration-color: #00af00\">256</span>)        │       <span style=\"color: #00af00; text-decoration-color: #00af00\">164,096</span> │\n",
              "├─────────────────────────────────┼────────────────────────┼───────────────┤\n",
              "│ batch_normalization_3           │ (<span style=\"color: #00d7ff; text-decoration-color: #00d7ff\">None</span>, <span style=\"color: #00af00; text-decoration-color: #00af00\">25</span>, <span style=\"color: #00af00; text-decoration-color: #00af00\">256</span>)        │         <span style=\"color: #00af00; text-decoration-color: #00af00\">1,024</span> │\n",
              "│ (<span style=\"color: #0087ff; text-decoration-color: #0087ff\">BatchNormalization</span>)            │                        │               │\n",
              "├─────────────────────────────────┼────────────────────────┼───────────────┤\n",
              "│ flatten (<span style=\"color: #0087ff; text-decoration-color: #0087ff\">Flatten</span>)               │ (<span style=\"color: #00d7ff; text-decoration-color: #00d7ff\">None</span>, <span style=\"color: #00af00; text-decoration-color: #00af00\">6400</span>)           │             <span style=\"color: #00af00; text-decoration-color: #00af00\">0</span> │\n",
              "├─────────────────────────────────┼────────────────────────┼───────────────┤\n",
              "│ dense (<span style=\"color: #0087ff; text-decoration-color: #0087ff\">Dense</span>)                   │ (<span style=\"color: #00d7ff; text-decoration-color: #00d7ff\">None</span>, <span style=\"color: #00af00; text-decoration-color: #00af00\">256</span>)            │     <span style=\"color: #00af00; text-decoration-color: #00af00\">1,638,656</span> │\n",
              "├─────────────────────────────────┼────────────────────────┼───────────────┤\n",
              "│ batch_normalization_4           │ (<span style=\"color: #00d7ff; text-decoration-color: #00d7ff\">None</span>, <span style=\"color: #00af00; text-decoration-color: #00af00\">256</span>)            │         <span style=\"color: #00af00; text-decoration-color: #00af00\">1,024</span> │\n",
              "│ (<span style=\"color: #0087ff; text-decoration-color: #0087ff\">BatchNormalization</span>)            │                        │               │\n",
              "├─────────────────────────────────┼────────────────────────┼───────────────┤\n",
              "│ dropout_1 (<span style=\"color: #0087ff; text-decoration-color: #0087ff\">Dropout</span>)             │ (<span style=\"color: #00d7ff; text-decoration-color: #00d7ff\">None</span>, <span style=\"color: #00af00; text-decoration-color: #00af00\">256</span>)            │             <span style=\"color: #00af00; text-decoration-color: #00af00\">0</span> │\n",
              "├─────────────────────────────────┼────────────────────────┼───────────────┤\n",
              "│ dense_1 (<span style=\"color: #0087ff; text-decoration-color: #0087ff\">Dense</span>)                 │ (<span style=\"color: #00d7ff; text-decoration-color: #00d7ff\">None</span>, <span style=\"color: #00af00; text-decoration-color: #00af00\">4</span>)              │         <span style=\"color: #00af00; text-decoration-color: #00af00\">1,028</span> │\n",
              "└─────────────────────────────────┴────────────────────────┴───────────────┘\n",
              "</pre>\n"
            ]
          },
          "metadata": {}
        },
        {
          "output_type": "display_data",
          "data": {
            "text/plain": [
              "\u001b[1m Total params: \u001b[0m\u001b[38;5;34m1,932,228\u001b[0m (7.37 MB)\n"
            ],
            "text/html": [
              "<pre style=\"white-space:pre;overflow-x:auto;line-height:normal;font-family:Menlo,'DejaVu Sans Mono',consolas,'Courier New',monospace\"><span style=\"font-weight: bold\"> Total params: </span><span style=\"color: #00af00; text-decoration-color: #00af00\">1,932,228</span> (7.37 MB)\n",
              "</pre>\n"
            ]
          },
          "metadata": {}
        },
        {
          "output_type": "display_data",
          "data": {
            "text/plain": [
              "\u001b[1m Trainable params: \u001b[0m\u001b[38;5;34m1,930,564\u001b[0m (7.36 MB)\n"
            ],
            "text/html": [
              "<pre style=\"white-space:pre;overflow-x:auto;line-height:normal;font-family:Menlo,'DejaVu Sans Mono',consolas,'Courier New',monospace\"><span style=\"font-weight: bold\"> Trainable params: </span><span style=\"color: #00af00; text-decoration-color: #00af00\">1,930,564</span> (7.36 MB)\n",
              "</pre>\n"
            ]
          },
          "metadata": {}
        },
        {
          "output_type": "display_data",
          "data": {
            "text/plain": [
              "\u001b[1m Non-trainable params: \u001b[0m\u001b[38;5;34m1,664\u001b[0m (6.50 KB)\n"
            ],
            "text/html": [
              "<pre style=\"white-space:pre;overflow-x:auto;line-height:normal;font-family:Menlo,'DejaVu Sans Mono',consolas,'Courier New',monospace\"><span style=\"font-weight: bold\"> Non-trainable params: </span><span style=\"color: #00af00; text-decoration-color: #00af00\">1,664</span> (6.50 KB)\n",
              "</pre>\n"
            ]
          },
          "metadata": {}
        }
      ]
    },
    {
      "cell_type": "markdown",
      "metadata": {
        "id": "2c8d6145"
      },
      "source": [
        "## 5. Model Training\n",
        "\n",
        "Compile and train the implemented 1D CNN model(s) using the training and validation sets."
      ]
    },
    {
      "cell_type": "code",
      "metadata": {
        "id": "d587ebd0",
        "colab": {
          "base_uri": "https://localhost:8080/"
        },
        "outputId": "05e4348a-febd-4fc5-8806-0f556200f55a"
      },
      "source": [
        "# Compile and train BorealTC IMU model\n",
        "if 'cnn_model_boreal_imu' in locals() and cnn_model_boreal_imu is not None:\n",
        "     print(\"\\nCompiling BorealTC IMU 1D CNN model with updated optimizer and loss...\")\n",
        "     cnn_model_boreal_imu.compile(optimizer=keras.optimizers.Adam(learning_rate=1e-4),\n",
        "                              loss='sparse_categorical_crossentropy',\n",
        "                              metrics=['accuracy'])\n",
        "     print(\"BorealTC IMU model compilation complete.\")\n",
        "     print(\"Training BorealTC IMU 1D CNN model...\")\n",
        "     # Assuming split_data contains the split data for the single modality (BorealTC IMU)\n",
        "     if 'split_data' in locals() and split_data['X_train'].size > 0:\n",
        "          history_boreal_imu = cnn_model_boreal_imu.fit(split_data['X_train'], split_data['y_train'],\n",
        "                                              epochs=50,\n",
        "                                              batch_size=32,\n",
        "                                              validation_data=(split_data['X_val'], split_data['y_val']))\n",
        "          print(\"\\nBorealTC IMU model training complete.\")\n",
        "          # You can access training history from history_boreal_imu\n",
        "     else:\n",
        "         print(\"BorealTC IMU training data not available or empty, skipping training.\")\n",
        "else:\n",
        "    print(\"\\nBorealTC IMU model not built, skipping training.\")"
      ],
      "execution_count": 6,
      "outputs": [
        {
          "output_type": "stream",
          "name": "stdout",
          "text": [
            "\n",
            "Compiling BorealTC IMU 1D CNN model with updated optimizer and loss...\n",
            "BorealTC IMU model compilation complete.\n",
            "Training BorealTC IMU 1D CNN model...\n",
            "Epoch 1/50\n",
            "\u001b[1m381/381\u001b[0m \u001b[32m━━━━━━━━━━━━━━━━━━━━\u001b[0m\u001b[37m\u001b[0m \u001b[1m17s\u001b[0m 20ms/step - accuracy: 0.3924 - loss: 1.8915 - val_accuracy: 0.5184 - val_loss: 2.0666\n",
            "Epoch 2/50\n",
            "\u001b[1m381/381\u001b[0m \u001b[32m━━━━━━━━━━━━━━━━━━━━\u001b[0m\u001b[37m\u001b[0m \u001b[1m2s\u001b[0m 6ms/step - accuracy: 0.6235 - loss: 1.1598 - val_accuracy: 0.6123 - val_loss: 1.4820\n",
            "Epoch 3/50\n",
            "\u001b[1m381/381\u001b[0m \u001b[32m━━━━━━━━━━━━━━━━━━━━\u001b[0m\u001b[37m\u001b[0m \u001b[1m2s\u001b[0m 5ms/step - accuracy: 0.6886 - loss: 0.9123 - val_accuracy: 0.6722 - val_loss: 1.2209\n",
            "Epoch 4/50\n",
            "\u001b[1m381/381\u001b[0m \u001b[32m━━━━━━━━━━━━━━━━━━━━\u001b[0m\u001b[37m\u001b[0m \u001b[1m2s\u001b[0m 5ms/step - accuracy: 0.7320 - loss: 0.7728 - val_accuracy: 0.6906 - val_loss: 1.0657\n",
            "Epoch 5/50\n",
            "\u001b[1m381/381\u001b[0m \u001b[32m━━━━━━━━━━━━━━━━━━━━\u001b[0m\u001b[37m\u001b[0m \u001b[1m2s\u001b[0m 5ms/step - accuracy: 0.7523 - loss: 0.7006 - val_accuracy: 0.7331 - val_loss: 0.9213\n",
            "Epoch 6/50\n",
            "\u001b[1m381/381\u001b[0m \u001b[32m━━━━━━━━━━━━━━━━━━━━\u001b[0m\u001b[37m\u001b[0m \u001b[1m2s\u001b[0m 5ms/step - accuracy: 0.7796 - loss: 0.6100 - val_accuracy: 0.7354 - val_loss: 0.9035\n",
            "Epoch 7/50\n",
            "\u001b[1m381/381\u001b[0m \u001b[32m━━━━━━━━━━━━━━━━━━━━\u001b[0m\u001b[37m\u001b[0m \u001b[1m2s\u001b[0m 5ms/step - accuracy: 0.7950 - loss: 0.5728 - val_accuracy: 0.7715 - val_loss: 0.7367\n",
            "Epoch 8/50\n",
            "\u001b[1m381/381\u001b[0m \u001b[32m━━━━━━━━━━━━━━━━━━━━\u001b[0m\u001b[37m\u001b[0m \u001b[1m2s\u001b[0m 5ms/step - accuracy: 0.8082 - loss: 0.5294 - val_accuracy: 0.7749 - val_loss: 0.6922\n",
            "Epoch 9/50\n",
            "\u001b[1m381/381\u001b[0m \u001b[32m━━━━━━━━━━━━━━━━━━━━\u001b[0m\u001b[37m\u001b[0m \u001b[1m3s\u001b[0m 7ms/step - accuracy: 0.8221 - loss: 0.4866 - val_accuracy: 0.7968 - val_loss: 0.6400\n",
            "Epoch 10/50\n",
            "\u001b[1m381/381\u001b[0m \u001b[32m━━━━━━━━━━━━━━━━━━━━\u001b[0m\u001b[37m\u001b[0m \u001b[1m2s\u001b[0m 5ms/step - accuracy: 0.8350 - loss: 0.4484 - val_accuracy: 0.7853 - val_loss: 0.6784\n",
            "Epoch 11/50\n",
            "\u001b[1m381/381\u001b[0m \u001b[32m━━━━━━━━━━━━━━━━━━━━\u001b[0m\u001b[37m\u001b[0m \u001b[1m2s\u001b[0m 5ms/step - accuracy: 0.8508 - loss: 0.4039 - val_accuracy: 0.7926 - val_loss: 0.6263\n",
            "Epoch 12/50\n",
            "\u001b[1m381/381\u001b[0m \u001b[32m━━━━━━━━━━━━━━━━━━━━\u001b[0m\u001b[37m\u001b[0m \u001b[1m2s\u001b[0m 5ms/step - accuracy: 0.8576 - loss: 0.3740 - val_accuracy: 0.8179 - val_loss: 0.5544\n",
            "Epoch 13/50\n",
            "\u001b[1m381/381\u001b[0m \u001b[32m━━━━━━━━━━━━━━━━━━━━\u001b[0m\u001b[37m\u001b[0m \u001b[1m2s\u001b[0m 5ms/step - accuracy: 0.8608 - loss: 0.3743 - val_accuracy: 0.8183 - val_loss: 0.5576\n",
            "Epoch 14/50\n",
            "\u001b[1m381/381\u001b[0m \u001b[32m━━━━━━━━━━━━━━━━━━━━\u001b[0m\u001b[37m\u001b[0m \u001b[1m3s\u001b[0m 6ms/step - accuracy: 0.8739 - loss: 0.3406 - val_accuracy: 0.7995 - val_loss: 0.5981\n",
            "Epoch 15/50\n",
            "\u001b[1m381/381\u001b[0m \u001b[32m━━━━━━━━━━━━━━━━━━━━\u001b[0m\u001b[37m\u001b[0m \u001b[1m2s\u001b[0m 5ms/step - accuracy: 0.8839 - loss: 0.3254 - val_accuracy: 0.8194 - val_loss: 0.5480\n",
            "Epoch 16/50\n",
            "\u001b[1m381/381\u001b[0m \u001b[32m━━━━━━━━━━━━━━━━━━━━\u001b[0m\u001b[37m\u001b[0m \u001b[1m2s\u001b[0m 5ms/step - accuracy: 0.8850 - loss: 0.3008 - val_accuracy: 0.8232 - val_loss: 0.5300\n",
            "Epoch 17/50\n",
            "\u001b[1m381/381\u001b[0m \u001b[32m━━━━━━━━━━━━━━━━━━━━\u001b[0m\u001b[37m\u001b[0m \u001b[1m2s\u001b[0m 5ms/step - accuracy: 0.8916 - loss: 0.2850 - val_accuracy: 0.8186 - val_loss: 0.5479\n",
            "Epoch 18/50\n",
            "\u001b[1m381/381\u001b[0m \u001b[32m━━━━━━━━━━━━━━━━━━━━\u001b[0m\u001b[37m\u001b[0m \u001b[1m2s\u001b[0m 5ms/step - accuracy: 0.9000 - loss: 0.2653 - val_accuracy: 0.8275 - val_loss: 0.5299\n",
            "Epoch 19/50\n",
            "\u001b[1m381/381\u001b[0m \u001b[32m━━━━━━━━━━━━━━━━━━━━\u001b[0m\u001b[37m\u001b[0m \u001b[1m2s\u001b[0m 5ms/step - accuracy: 0.9114 - loss: 0.2450 - val_accuracy: 0.8278 - val_loss: 0.5364\n",
            "Epoch 20/50\n",
            "\u001b[1m381/381\u001b[0m \u001b[32m━━━━━━━━━━━━━━━━━━━━\u001b[0m\u001b[37m\u001b[0m \u001b[1m2s\u001b[0m 5ms/step - accuracy: 0.9138 - loss: 0.2323 - val_accuracy: 0.8336 - val_loss: 0.5210\n",
            "Epoch 21/50\n",
            "\u001b[1m381/381\u001b[0m \u001b[32m━━━━━━━━━━━━━━━━━━━━\u001b[0m\u001b[37m\u001b[0m \u001b[1m2s\u001b[0m 5ms/step - accuracy: 0.9216 - loss: 0.2168 - val_accuracy: 0.8439 - val_loss: 0.5073\n",
            "Epoch 22/50\n",
            "\u001b[1m381/381\u001b[0m \u001b[32m━━━━━━━━━━━━━━━━━━━━\u001b[0m\u001b[37m\u001b[0m \u001b[1m2s\u001b[0m 5ms/step - accuracy: 0.9270 - loss: 0.2056 - val_accuracy: 0.8439 - val_loss: 0.5295\n",
            "Epoch 23/50\n",
            "\u001b[1m381/381\u001b[0m \u001b[32m━━━━━━━━━━━━━━━━━━━━\u001b[0m\u001b[37m\u001b[0m \u001b[1m3s\u001b[0m 5ms/step - accuracy: 0.9332 - loss: 0.1856 - val_accuracy: 0.8474 - val_loss: 0.5061\n",
            "Epoch 24/50\n",
            "\u001b[1m381/381\u001b[0m \u001b[32m━━━━━━━━━━━━━━━━━━━━\u001b[0m\u001b[37m\u001b[0m \u001b[1m2s\u001b[0m 5ms/step - accuracy: 0.9365 - loss: 0.1780 - val_accuracy: 0.8585 - val_loss: 0.4758\n",
            "Epoch 25/50\n",
            "\u001b[1m381/381\u001b[0m \u001b[32m━━━━━━━━━━━━━━━━━━━━\u001b[0m\u001b[37m\u001b[0m \u001b[1m2s\u001b[0m 5ms/step - accuracy: 0.9362 - loss: 0.1711 - val_accuracy: 0.8570 - val_loss: 0.4854\n",
            "Epoch 26/50\n",
            "\u001b[1m381/381\u001b[0m \u001b[32m━━━━━━━━━━━━━━━━━━━━\u001b[0m\u001b[37m\u001b[0m \u001b[1m2s\u001b[0m 5ms/step - accuracy: 0.9386 - loss: 0.1665 - val_accuracy: 0.8474 - val_loss: 0.5111\n",
            "Epoch 27/50\n",
            "\u001b[1m381/381\u001b[0m \u001b[32m━━━━━━━━━━━━━━━━━━━━\u001b[0m\u001b[37m\u001b[0m \u001b[1m2s\u001b[0m 6ms/step - accuracy: 0.9434 - loss: 0.1575 - val_accuracy: 0.8581 - val_loss: 0.5015\n",
            "Epoch 28/50\n",
            "\u001b[1m381/381\u001b[0m \u001b[32m━━━━━━━━━━━━━━━━━━━━\u001b[0m\u001b[37m\u001b[0m \u001b[1m2s\u001b[0m 5ms/step - accuracy: 0.9501 - loss: 0.1461 - val_accuracy: 0.8646 - val_loss: 0.4666\n",
            "Epoch 29/50\n",
            "\u001b[1m381/381\u001b[0m \u001b[32m━━━━━━━━━━━━━━━━━━━━\u001b[0m\u001b[37m\u001b[0m \u001b[1m2s\u001b[0m 5ms/step - accuracy: 0.9545 - loss: 0.1333 - val_accuracy: 0.8681 - val_loss: 0.4808\n",
            "Epoch 30/50\n",
            "\u001b[1m381/381\u001b[0m \u001b[32m━━━━━━━━━━━━━━━━━━━━\u001b[0m\u001b[37m\u001b[0m \u001b[1m2s\u001b[0m 5ms/step - accuracy: 0.9507 - loss: 0.1338 - val_accuracy: 0.8631 - val_loss: 0.4781\n",
            "Epoch 31/50\n",
            "\u001b[1m381/381\u001b[0m \u001b[32m━━━━━━━━━━━━━━━━━━━━\u001b[0m\u001b[37m\u001b[0m \u001b[1m2s\u001b[0m 5ms/step - accuracy: 0.9547 - loss: 0.1257 - val_accuracy: 0.8627 - val_loss: 0.5021\n",
            "Epoch 32/50\n",
            "\u001b[1m381/381\u001b[0m \u001b[32m━━━━━━━━━━━━━━━━━━━━\u001b[0m\u001b[37m\u001b[0m \u001b[1m2s\u001b[0m 5ms/step - accuracy: 0.9541 - loss: 0.1229 - val_accuracy: 0.8685 - val_loss: 0.4989\n",
            "Epoch 33/50\n",
            "\u001b[1m381/381\u001b[0m \u001b[32m━━━━━━━━━━━━━━━━━━━━\u001b[0m\u001b[37m\u001b[0m \u001b[1m2s\u001b[0m 6ms/step - accuracy: 0.9559 - loss: 0.1171 - val_accuracy: 0.8662 - val_loss: 0.4970\n",
            "Epoch 34/50\n",
            "\u001b[1m381/381\u001b[0m \u001b[32m━━━━━━━━━━━━━━━━━━━━\u001b[0m\u001b[37m\u001b[0m \u001b[1m2s\u001b[0m 5ms/step - accuracy: 0.9626 - loss: 0.1087 - val_accuracy: 0.8658 - val_loss: 0.4828\n",
            "Epoch 35/50\n",
            "\u001b[1m381/381\u001b[0m \u001b[32m━━━━━━━━━━━━━━━━━━━━\u001b[0m\u001b[37m\u001b[0m \u001b[1m2s\u001b[0m 5ms/step - accuracy: 0.9612 - loss: 0.1137 - val_accuracy: 0.8662 - val_loss: 0.5094\n",
            "Epoch 36/50\n",
            "\u001b[1m381/381\u001b[0m \u001b[32m━━━━━━━━━━━━━━━━━━━━\u001b[0m\u001b[37m\u001b[0m \u001b[1m2s\u001b[0m 5ms/step - accuracy: 0.9619 - loss: 0.1057 - val_accuracy: 0.8685 - val_loss: 0.4753\n",
            "Epoch 37/50\n",
            "\u001b[1m381/381\u001b[0m \u001b[32m━━━━━━━━━━━━━━━━━━━━\u001b[0m\u001b[37m\u001b[0m \u001b[1m2s\u001b[0m 5ms/step - accuracy: 0.9594 - loss: 0.1090 - val_accuracy: 0.8662 - val_loss: 0.5000\n",
            "Epoch 38/50\n",
            "\u001b[1m381/381\u001b[0m \u001b[32m━━━━━━━━━━━━━━━━━━━━\u001b[0m\u001b[37m\u001b[0m \u001b[1m2s\u001b[0m 5ms/step - accuracy: 0.9637 - loss: 0.1022 - val_accuracy: 0.8792 - val_loss: 0.4979\n",
            "Epoch 39/50\n",
            "\u001b[1m381/381\u001b[0m \u001b[32m━━━━━━━━━━━━━━━━━━━━\u001b[0m\u001b[37m\u001b[0m \u001b[1m2s\u001b[0m 5ms/step - accuracy: 0.9657 - loss: 0.0993 - val_accuracy: 0.8669 - val_loss: 0.5144\n",
            "Epoch 40/50\n",
            "\u001b[1m381/381\u001b[0m \u001b[32m━━━━━━━━━━━━━━━━━━━━\u001b[0m\u001b[37m\u001b[0m \u001b[1m2s\u001b[0m 6ms/step - accuracy: 0.9662 - loss: 0.0941 - val_accuracy: 0.8681 - val_loss: 0.4947\n",
            "Epoch 41/50\n",
            "\u001b[1m381/381\u001b[0m \u001b[32m━━━━━━━━━━━━━━━━━━━━\u001b[0m\u001b[37m\u001b[0m \u001b[1m2s\u001b[0m 5ms/step - accuracy: 0.9706 - loss: 0.0853 - val_accuracy: 0.8735 - val_loss: 0.5029\n",
            "Epoch 42/50\n",
            "\u001b[1m381/381\u001b[0m \u001b[32m━━━━━━━━━━━━━━━━━━━━\u001b[0m\u001b[37m\u001b[0m \u001b[1m2s\u001b[0m 5ms/step - accuracy: 0.9706 - loss: 0.0845 - val_accuracy: 0.8834 - val_loss: 0.4792\n",
            "Epoch 43/50\n",
            "\u001b[1m381/381\u001b[0m \u001b[32m━━━━━━━━━━━━━━━━━━━━\u001b[0m\u001b[37m\u001b[0m \u001b[1m4s\u001b[0m 10ms/step - accuracy: 0.9723 - loss: 0.0843 - val_accuracy: 0.8777 - val_loss: 0.5147\n",
            "Epoch 44/50\n",
            "\u001b[1m381/381\u001b[0m \u001b[32m━━━━━━━━━━━━━━━━━━━━\u001b[0m\u001b[37m\u001b[0m \u001b[1m5s\u001b[0m 12ms/step - accuracy: 0.9767 - loss: 0.0738 - val_accuracy: 0.8827 - val_loss: 0.4942\n",
            "Epoch 45/50\n",
            "\u001b[1m381/381\u001b[0m \u001b[32m━━━━━━━━━━━━━━━━━━━━\u001b[0m\u001b[37m\u001b[0m \u001b[1m2s\u001b[0m 5ms/step - accuracy: 0.9734 - loss: 0.0800 - val_accuracy: 0.8785 - val_loss: 0.5158\n",
            "Epoch 46/50\n",
            "\u001b[1m381/381\u001b[0m \u001b[32m━━━━━━━━━━━━━━━━━━━━\u001b[0m\u001b[37m\u001b[0m \u001b[1m2s\u001b[0m 5ms/step - accuracy: 0.9773 - loss: 0.0665 - val_accuracy: 0.8800 - val_loss: 0.4974\n",
            "Epoch 47/50\n",
            "\u001b[1m381/381\u001b[0m \u001b[32m━━━━━━━━━━━━━━━━━━━━\u001b[0m\u001b[37m\u001b[0m \u001b[1m2s\u001b[0m 5ms/step - accuracy: 0.9709 - loss: 0.0759 - val_accuracy: 0.8750 - val_loss: 0.5312\n",
            "Epoch 48/50\n",
            "\u001b[1m381/381\u001b[0m \u001b[32m━━━━━━━━━━━━━━━━━━━━\u001b[0m\u001b[37m\u001b[0m \u001b[1m2s\u001b[0m 5ms/step - accuracy: 0.9766 - loss: 0.0672 - val_accuracy: 0.8704 - val_loss: 0.5492\n",
            "Epoch 49/50\n",
            "\u001b[1m381/381\u001b[0m \u001b[32m━━━━━━━━━━━━━━━━━━━━\u001b[0m\u001b[37m\u001b[0m \u001b[1m2s\u001b[0m 5ms/step - accuracy: 0.9729 - loss: 0.0784 - val_accuracy: 0.8842 - val_loss: 0.5061\n",
            "Epoch 50/50\n",
            "\u001b[1m381/381\u001b[0m \u001b[32m━━━━━━━━━━━━━━━━━━━━\u001b[0m\u001b[37m\u001b[0m \u001b[1m2s\u001b[0m 5ms/step - accuracy: 0.9762 - loss: 0.0635 - val_accuracy: 0.8831 - val_loss: 0.5093\n",
            "\n",
            "BorealTC IMU model training complete.\n"
          ]
        }
      ]
    },
    {
      "cell_type": "markdown",
      "metadata": {
        "id": "59a4238b"
      },
      "source": [
        "## 6. Model Evaluation\n",
        "\n",
        "Evaluate the trained 1D CNN model(s) on the test sets."
      ]
    },
    {
      "cell_type": "code",
      "metadata": {
        "id": "79a74771",
        "colab": {
          "base_uri": "https://localhost:8080/"
        },
        "outputId": "d0404c54-aaff-440e-86de-33e10c277453"
      },
      "source": [
        "# Evaluate BorealTC IMU model on the test set\n",
        "if 'cnn_model_boreal_imu' in locals() and cnn_model_boreal_imu is not None and 'split_data' in locals() and split_data['X_test'].size > 0:\n",
        "    print(\"\\nEvaluating BorealTC IMU 1D CNN model on the test set...\")\n",
        "    loss_boreal_imu, accuracy_boreal_imu = cnn_model_boreal_imu.evaluate(split_data['X_test'], split_data['y_test'], verbose=0)\n",
        "    print(f\"BorealTC IMU Test Loss: {loss_boreal_imu:.4f}\")\n",
        "    print(f\"BorealTC IMU Test Accuracy: {accuracy_boreal_imu:.4f}\")\n",
        "else:\n",
        "    print(\"\\nBorealTC IMU model not built or test data not available/empty, skipping evaluation.\")"
      ],
      "execution_count": 7,
      "outputs": [
        {
          "output_type": "stream",
          "name": "stdout",
          "text": [
            "\n",
            "Evaluating BorealTC IMU 1D CNN model on the test set...\n",
            "BorealTC IMU Test Loss: 0.4554\n",
            "BorealTC IMU Test Accuracy: 0.8911\n"
          ]
        }
      ]
    },
    {
      "cell_type": "markdown",
      "metadata": {
        "id": "bd42038c"
      },
      "source": [
        "## 7. SVM Baseline\n",
        "\n",
        "Implement, train, and evaluate an SVM classifier as a baseline model for terrain classification using the BorealTC IMU data."
      ]
    },
    {
      "cell_type": "code",
      "metadata": {
        "id": "a99f056e",
        "colab": {
          "base_uri": "https://localhost:8080/"
        },
        "outputId": "f9ccab2d-85ac-4219-83b9-573613634601"
      },
      "source": [
        "from sklearn.svm import SVC\n",
        "from sklearn.preprocessing import StandardScaler\n",
        "from sklearn.pipeline import make_pipeline\n",
        "from sklearn.metrics import accuracy_score # Import accuracy_score\n",
        "import numpy as np # Ensure numpy is imported\n",
        "\n",
        "# Initialize variables in global scope in case data is not available\n",
        "X_train_flat = np.array([])\n",
        "y_train_svm = np.array([])\n",
        "X_val_flat = np.array([])\n",
        "y_val_svm = np.array([])\n",
        "X_test_flat = np.array([])\n",
        "y_test_svm = np.array([])\n",
        "svm_model = None\n",
        "accuracy_svm = None # Initialize SVM accuracy\n",
        "\n",
        "# Prepare data for SVM (flatten the segments)\n",
        "# Assuming split_data contains the split data for the single modality (BorealTC IMU)\n",
        "if 'split_data' in locals() and split_data['X_train'].size > 0:\n",
        "    print(\"\\nPreparing BorealTC IMU data for SVM...\")\n",
        "    X_train_flat = split_data['X_train'].reshape(split_data['X_train'].shape[0], -1)\n",
        "    y_train_svm = split_data['y_train']\n",
        "    X_val_flat = split_data['X_val'].reshape(split_data['X_val'].shape[0], -1)\n",
        "    y_val_svm = split_data['y_val'] # y_val does not need reshaping\n",
        "    X_test_flat = split_data['X_test'].reshape(split_data['X_test'].shape[0], -1)\n",
        "    y_test_svm = split_data['y_test']\n",
        "\n",
        "    print(\"Training data shape (flattened) for SVM:\", X_train_flat.shape, y_train_svm.shape)\n",
        "    print(\"Validation data shape (flattened) for SVM:\", X_val_flat.shape, y_val_svm.shape)\n",
        "    print(\"Test data shape (flattened) for SVM:\", X_test_flat.shape, y_test_svm.shape)\n",
        "\n",
        "    # Implement and train SVM classifier\n",
        "    # Using a pipeline to scale the data before training the SVM\n",
        "    print(\"\\nImplementing and training SVM classifier...\")\n",
        "    svm_model = make_pipeline(StandardScaler(), SVC(gamma='auto')) # Example SVM with RBF kernel and auto gamma\n",
        "\n",
        "    svm_model.fit(X_train_flat, y_train_svm)\n",
        "    print(\"SVM classifier training complete.\")\n",
        "\n",
        "    # Evaluate SVM on the test set\n",
        "    if X_test_flat.size > 0 and y_test_svm.size > 0:\n",
        "        print(\"\\nEvaluating SVM classifier on the test set...\")\n",
        "        y_pred_svm = svm_model.predict(X_test_flat)\n",
        "        accuracy_svm = accuracy_score(y_test_svm, y_pred_svm)\n",
        "        print(f\"SVM Test Accuracy: {accuracy_svm:.4f}\")\n",
        "    else:\n",
        "        print(\"\\nSVM test data not available or empty, skipping SVM evaluation.\")\n",
        "\n",
        "\n",
        "else:\n",
        "    print(\"\\nSplit data not available or BorealTC IMU training data not present for SVM processing.\")\n",
        "    # Variables remain initialized as empty arrays and svm_model as None"
      ],
      "execution_count": 8,
      "outputs": [
        {
          "output_type": "stream",
          "name": "stdout",
          "text": [
            "\n",
            "Preparing BorealTC IMU data for SVM...\n",
            "Training data shape (flattened) for SVM: (12173, 600) (12173,)\n",
            "Validation data shape (flattened) for SVM: (2608, 600) (2608,)\n",
            "Test data shape (flattened) for SVM: (2609, 600) (2609,)\n",
            "\n",
            "Implementing and training SVM classifier...\n",
            "SVM classifier training complete.\n",
            "\n",
            "Evaluating SVM classifier on the test set...\n",
            "SVM Test Accuracy: 0.7037\n"
          ]
        }
      ]
    },
    {
      "cell_type": "markdown",
      "metadata": {
        "id": "64bb947b"
      },
      "source": [
        "### Compare 1D CNN and SVM Results\n",
        "\n",
        "Compare the performance of the trained 1D CNN and SVM models based on their evaluation metrics (e.g., test accuracy)."
      ]
    },
    {
      "cell_type": "code",
      "metadata": {
        "id": "e5cf97ae",
        "colab": {
          "base_uri": "https://localhost:8080/"
        },
        "outputId": "e72c517c-a819-4586-acfc-5fd80670a2bc"
      },
      "source": [
        "# Compare the test accuracies\n",
        "print(\"\\n--- Model Comparison (BorealTC IMU Data) ---\")\n",
        "\n",
        "if 'accuracy_boreal_imu' in locals() and accuracy_boreal_imu is not None:\n",
        "    print(f\"1D CNN Test Accuracy: {accuracy_boreal_imu:.4f}\")\n",
        "else:\n",
        "    print(\"1D CNN Test Accuracy not available.\")\n",
        "\n",
        "if 'accuracy_svm' in locals() and accuracy_svm is not None:\n",
        "    print(f\"SVM Baseline Test Accuracy: {accuracy_svm:.4f}\")\n",
        "else:\n",
        "    print(\"SVM Baseline Test Accuracy not available.\")\n",
        "\n",
        "print(\"\\nAnalysis:\")\n",
        "if 'accuracy_boreal_imu' in locals() and 'accuracy_svm' in locals() and accuracy_boreal_imu is not None and accuracy_svm is not None:\n",
        "    if accuracy_boreal_imu > accuracy_svm:\n",
        "        print(\"The 1D CNN model performed better than the SVM baseline on the BorealTC IMU test data.\")\n",
        "    elif accuracy_svm > accuracy_boreal_imu:\n",
        "        print(\"The SVM baseline performed better than the 1D CNN model on the BorealTC IMU test data.\")\n",
        "    else:\n",
        "        print(\"The 1D CNN and SVM models achieved the same accuracy on the BorealTC IMU test data.\")\n",
        "elif 'accuracy_boreal_imu' in locals() and accuracy_boreal_imu is not None:\n",
        "    print(\"Only 1D CNN test accuracy is available for comparison.\")\n",
        "elif 'accuracy_svm' in locals() and accuracy_svm is not None:\n",
        "    print(\"Only SVM baseline test accuracy is available for comparison.\")\n",
        "else:\n",
        "    print(\"Neither 1D CNN nor SVM test accuracy is available for comparison.\")"
      ],
      "execution_count": 9,
      "outputs": [
        {
          "output_type": "stream",
          "name": "stdout",
          "text": [
            "\n",
            "--- Model Comparison (BorealTC IMU Data) ---\n",
            "1D CNN Test Accuracy: 0.8911\n",
            "SVM Baseline Test Accuracy: 0.7037\n",
            "\n",
            "Analysis:\n",
            "The 1D CNN model performed better than the SVM baseline on the BorealTC IMU test data.\n"
          ]
        }
      ]
    },
    {
      "cell_type": "markdown",
      "metadata": {
        "id": "53db849d"
      },
      "source": [
        "### Model Evaluation Details\n",
        "\n",
        "Here we present detailed evaluation metrics for the trained 1D CNN and SVM models on the test set, including confusion matrices and an accuracy table."
      ]
    },
    {
      "cell_type": "code",
      "metadata": {
        "id": "3c2f3105",
        "colab": {
          "base_uri": "https://localhost:8080/",
          "height": 1000
        },
        "outputId": "c9aacfed-00b8-45f2-f9cb-cf2e31f4a910"
      },
      "source": [
        "from sklearn.metrics import confusion_matrix, classification_report\n",
        "import matplotlib.pyplot as plt\n",
        "import seaborn as sns\n",
        "import numpy as np\n",
        "\n",
        "# Assuming split_data contains the test sets\n",
        "if 'split_data' in locals() and split_data['X_test'].size > 0:\n",
        "    X_test = split_data['X_test']\n",
        "    y_test = split_data['y_test']\n",
        "\n",
        "    # Evaluate 1D CNN and generate confusion matrix\n",
        "    if 'cnn_model_boreal_imu' in locals() and cnn_model_boreal_imu is not None:\n",
        "        print(\"\\nGenerating Confusion Matrix for 1D CNN Model...\")\n",
        "        y_pred_cnn_probs = cnn_model_boreal_imu.predict(X_test)\n",
        "        y_pred_cnn = np.argmax(y_pred_cnn_probs, axis=1)\n",
        "\n",
        "        cm_cnn = confusion_matrix(y_test, y_pred_cnn)\n",
        "\n",
        "        plt.figure(figsize=(8, 6))\n",
        "        sns.heatmap(cm_cnn, annot=True, fmt='d', cmap='Blues',\n",
        "                    xticklabels=class_to_label.keys(), yticklabels=class_to_label.keys())\n",
        "        plt.xlabel('Predicted Label')\n",
        "        plt.ylabel('True Label')\n",
        "        plt.title('Confusion Matrix - 1D CNN')\n",
        "        plt.show()\n",
        "\n",
        "        print(\"\\nClassification Report for 1D CNN Model:\")\n",
        "        print(classification_report(y_test, y_pred_cnn, target_names=class_to_label.keys()))\n",
        "\n",
        "    else:\n",
        "        print(\"\\n1D CNN model not available, skipping confusion matrix and classification report.\")\n",
        "\n",
        "    # Evaluate SVM and generate confusion matrix\n",
        "    if 'svm_model' in locals() and svm_model is not None:\n",
        "        print(\"\\nGenerating Confusion Matrix for SVM Baseline Model...\")\n",
        "        # Ensure X_test is flattened for SVM if not already\n",
        "        X_test_flat_svm = X_test.reshape(X_test.shape[0], -1)\n",
        "        y_pred_svm = svm_model.predict(X_test_flat_svm)\n",
        "\n",
        "        cm_svm = confusion_matrix(y_test, y_pred_svm)\n",
        "\n",
        "        plt.figure(figsize=(8, 6))\n",
        "        sns.heatmap(cm_svm, annot=True, fmt='d', cmap='Blues',\n",
        "                    xticklabels=class_to_label.keys(), yticklabels=class_to_label.keys())\n",
        "        plt.xlabel('Predicted Label')\n",
        "        plt.ylabel('True Label')\n",
        "        plt.title('Confusion Matrix - SVM Baseline')\n",
        "        plt.show()\n",
        "\n",
        "        print(\"\\nClassification Report for SVM Baseline Model:\")\n",
        "        print(classification_report(y_test, y_pred_svm, target_names=class_to_label.keys()))\n",
        "    else:\n",
        "        print(\"\\nSVM model not available, skipping confusion matrix and classification report.\")\n",
        "\n",
        "else:\n",
        "    print(\"\\nTest data not available, skipping confusion matrix generation.\")"
      ],
      "execution_count": 10,
      "outputs": [
        {
          "output_type": "stream",
          "name": "stdout",
          "text": [
            "\n",
            "Generating Confusion Matrix for 1D CNN Model...\n",
            "\u001b[1m82/82\u001b[0m \u001b[32m━━━━━━━━━━━━━━━━━━━━\u001b[0m\u001b[37m\u001b[0m \u001b[1m1s\u001b[0m 8ms/step\n"
          ]
        },
        {
          "output_type": "display_data",
          "data": {
            "text/plain": [
              "<Figure size 800x600 with 2 Axes>"
            ],
            "image/png": "[encoded data removed]"
          },
          "metadata": {}
        },
        {
          "output_type": "stream",
          "name": "stdout",
          "text": [
            "\n",
            "Classification Report for 1D CNN Model:\n",
            "              precision    recall  f1-score   support\n",
            "\n",
            "        hard       0.88      0.95      0.91       878\n",
            "unstructured       0.85      0.81      0.83       647\n",
            "        soft       0.94      0.77      0.84       442\n",
            "      indoor       0.92      0.98      0.95       642\n",
            "\n",
            "    accuracy                           0.89      2609\n",
            "   macro avg       0.90      0.88      0.88      2609\n",
            "weighted avg       0.89      0.89      0.89      2609\n",
            "\n",
            "\n",
            "Generating Confusion Matrix for SVM Baseline Model...\n"
          ]
        },
        {
          "output_type": "display_data",
          "data": {
            "text/plain": [
              "<Figure size 800x600 with 2 Axes>"
            ],
            "image/png": "[encoded data removed]"
          },
          "metadata": {}
        },
        {
          "output_type": "stream",
          "name": "stdout",
          "text": [
            "\n",
            "Classification Report for SVM Baseline Model:\n",
            "              precision    recall  f1-score   support\n",
            "\n",
            "        hard       0.77      0.83      0.80       878\n",
            "unstructured       0.55      0.68      0.61       647\n",
            "        soft       0.68      0.37      0.48       442\n",
            "      indoor       0.80      0.78      0.79       642\n",
            "\n",
            "    accuracy                           0.70      2609\n",
            "   macro avg       0.70      0.67      0.67      2609\n",
            "weighted avg       0.71      0.70      0.70      2609\n",
            "\n"
          ]
        }
      ]
    },
    {
      "cell_type": "markdown",
      "metadata": {
        "id": "8b808ab7"
      },
      "source": [
        "### Accuracy Comparison\n",
        "\n",
        "| Model          | Test Accuracy |\n",
        "|----------------|---------------|\n",
        "| 1D CNN         | {accuracy_boreal_imu:.4f} |\n",
        "| SVM Baseline   | {accuracy_svm:.4f} |\n",
        "\n",
        "As shown in the table above, the 1D CNN model achieved a significantly higher test accuracy compared to the SVM baseline, demonstrating its effectiveness in classifying terrain types from the BorealTC IMU data."
      ]
    },
    {
      "cell_type": "markdown",
      "metadata": {
        "id": "adff9cb4"
      },
      "source": [
        "## Finalize report summary\n",
        "\n",
        "### Subtask:\n",
        "Update the project report summary with the final results from the 1D CNN and SVM model evaluations, including the comparison analysis.\n"
      ]
    },
    {
      "cell_type": "code",
      "metadata": {
        "id": "a7dd4739",
        "colab": {
          "base_uri": "https://localhost:8080/",
          "height": 831
        },
        "outputId": "d09b87d4-d0ac-441f-a6a7-0b0671722a91"
      },
      "source": [
        "from IPython.display import display, Markdown\n",
        "\n",
        "report_summary = f\"\"\"\n",
        "## Project Report Summary\n",
        "\n",
        "This section provides a concise summary of the terrain classification project, suitable for inclusion in a one-page PDF submission.\n",
        "\n",
        "### Problem and Approach\n",
        "\n",
        "**Problem:** The goal of this project was to classify terrain types using data from two different robotic datasets: the SAIL-R tactile dataset and the BorealTC proprioceptive dataset. Accurate terrain classification is crucial for autonomous robot navigation in various environments.\n",
        "\n",
        "**Approach:** We focused on implementing and evaluating machine learning models for this task. Our approach involved:\n",
        "1. **Data Preparation:** Loading, preprocessing (segmentation into fixed-length windows, normalization), and splitting the datasets into training, validation, and test sets. Due to significant differences in features and missing values, and promising initial results, we primarily focused on the BorealTC IMU data for detailed model implementation and comparison.\n",
        "2. **Model Implementation:** Implementing a 1D Convolutional Neural Network (CNN) based on the architecture described in the Choi & Thomasson paper, and an Support Vector Machine (SVM) as a baseline classifier.\n",
        "3. **Training and Evaluation:** Training the implemented models on the prepared BorealTC IMU data and evaluating their performance using metrics such as accuracy, confusion matrices, and classification reports.\n",
        "\n",
        "### Key Results\n",
        "\n",
        "We compared the performance of the 1D CNN and SVM models on the BorealTC IMU test dataset (6 features: wx, wy, wz, ax, ay, az).\n",
        "\n",
        "* **1D CNN Model:** Achieved a test accuracy of **{accuracy_boreal_imu:.4f}**. The classification report (not explicitly shown in this summary but generated during evaluation) shows good precision, recall, and F1-scores across most classes, indicating that the 1D CNN effectively learned to classify terrain types from the IMU data. The confusion matrix (not explicitly shown) provides a breakdown of correct and incorrect classifications per class.\n",
        "* **SVM Baseline Model:** Achieved a test accuracy of **{accuracy_svm:.4f}**. While better than random chance, the SVM's performance was significantly lower than the 1D CNN, highlighting the capability of the CNN architecture to capture relevant patterns in the sequential IMU data.\n",
        "\n",
        "**Insight:** The BorealTC IMU data proved to be highly effective for terrain classification using a 1D CNN in this project setup, yielding a promising accuracy.\n",
        "\n",
        "### Challenges\n",
        "\n",
        "* **Dataset Differences:** The significant differences in sensor types, features, and data structure between the SAIL-R and BorealTC datasets posed a challenge for creating a unified processing pipeline or a single model input.\n",
        "* **SAIL-R Dataset Size:** The relatively small size of the SAIL-R dataset after segmentation and filtering made it difficult to train a complex model like a CNN without severe overfitting, leading us to focus on the larger BorealTC dataset.\n",
        "* **BorealTC Missing Values:** The distinct patterns of missing values in the BorealTC dataset (velocity/current vs. IMU) required separate handling of these feature sets during data preprocessing.\n",
        "\n",
        "### Future Work\n",
        "\n",
        "* **Explore Other Models:** Implement and evaluate other machine learning models (e.g., LSTMs, Transformers, or other CNN variants) on the BorealTC IMU data to potentially improve classification accuracy.\n",
        "* **Investigate Multi-modal Fusion:** Explore techniques for combining information from different BorealTC modalities (Velocity/Current and IMU) or potentially even the SAIL-R data (if compatible features can be identified or extracted) to leverage the strengths of each sensor type for improved terrain classification.\n",
        "* **Hyperparameter Tuning:** Systematically tune the hyperparameters of the implemented models (especially the 1D CNN) to optimize their performance.\n",
        "* **Cross-validation:** Implement cross-validation during training to obtain more robust performance estimates and reduce reliance on a single train/validation/test split.\n",
        "* **Real-time Implementation:** Consider the computational requirements for deploying the trained models on a robot for real-time terrain classification.\n",
        "\"\"\"\n",
        "\n",
        "display(Markdown(report_summary))"
      ],
      "execution_count": 11,
      "outputs": [
        {
          "output_type": "display_data",
          "data": {
            "text/plain": [
              "<IPython.core.display.Markdown object>"
            ],
            "text/markdown": "\n## Project Report Summary\n\nThis section provides a concise summary of the terrain classification project, suitable for inclusion in a one-page PDF submission.\n\n### Problem and Approach\n\n**Problem:** The goal of this project was to classify terrain types using data from two different robotic datasets: the SAIL-R tactile dataset and the BorealTC proprioceptive dataset. Accurate terrain classification is crucial for autonomous robot navigation in various environments.\n\n**Approach:** We focused on implementing and evaluating machine learning models for this task. Our approach involved:\n1. **Data Preparation:** Loading, preprocessing (segmentation into fixed-length windows, normalization), and splitting the datasets into training, validation, and test sets. Due to significant differences in features and missing values, and promising initial results, we primarily focused on the BorealTC IMU data for detailed model implementation and comparison.\n2. **Model Implementation:** Implementing a 1D Convolutional Neural Network (CNN) based on the architecture described in the Choi & Thomasson paper, and an Support Vector Machine (SVM) as a baseline classifier.\n3. **Training and Evaluation:** Training the implemented models on the prepared BorealTC IMU data and evaluating their performance using metrics such as accuracy, confusion matrices, and classification reports.\n\n### Key Results\n\nWe compared the performance of the 1D CNN and SVM models on the BorealTC IMU test dataset (6 features: wx, wy, wz, ax, ay, az).\n\n* **1D CNN Model:** Achieved a test accuracy of **0.8911**. The classification report (not explicitly shown in this summary but generated during evaluation) shows good precision, recall, and F1-scores across most classes, indicating that the 1D CNN effectively learned to classify terrain types from the IMU data. The confusion matrix (not explicitly shown) provides a breakdown of correct and incorrect classifications per class.\n* **SVM Baseline Model:** Achieved a test accuracy of **0.7037**. While better than random chance, the SVM's performance was significantly lower than the 1D CNN, highlighting the capability of the CNN architecture to capture relevant patterns in the sequential IMU data.\n\n**Insight:** The BorealTC IMU data proved to be highly effective for terrain classification using a 1D CNN in this project setup, yielding a promising accuracy.\n\n### Challenges\n\n* **Dataset Differences:** The significant differences in sensor types, features, and data structure between the SAIL-R and BorealTC datasets posed a challenge for creating a unified processing pipeline or a single model input.\n* **SAIL-R Dataset Size:** The relatively small size of the SAIL-R dataset after segmentation and filtering made it difficult to train a complex model like a CNN without severe overfitting, leading us to focus on the larger BorealTC dataset.\n* **BorealTC Missing Values:** The distinct patterns of missing values in the BorealTC dataset (velocity/current vs. IMU) required separate handling of these feature sets during data preprocessing.\n\n### Future Work\n\n* **Explore Other Models:** Implement and evaluate other machine learning models (e.g., LSTMs, Transformers, or other CNN variants) on the BorealTC IMU data to potentially improve classification accuracy.\n* **Investigate Multi-modal Fusion:** Explore techniques for combining information from different BorealTC modalities (Velocity/Current and IMU) or potentially even the SAIL-R data (if compatible features can be identified or extracted) to leverage the strengths of each sensor type for improved terrain classification.\n* **Hyperparameter Tuning:** Systematically tune the hyperparameters of the implemented models (especially the 1D CNN) to optimize their performance.\n* **Cross-validation:** Implement cross-validation during training to obtain more robust performance estimates and reduce reliance on a single train/validation/test split.\n* **Real-time Implementation:** Consider the computational requirements for deploying the trained models on a robot for real-time terrain classification.\n"
          },
          "metadata": {}
        }
      ]
    }
  ]
}
